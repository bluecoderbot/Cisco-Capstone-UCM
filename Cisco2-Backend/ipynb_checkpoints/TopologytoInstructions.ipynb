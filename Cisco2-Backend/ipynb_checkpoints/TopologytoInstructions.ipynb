{
 "cells": [
  {
   "cell_type": "markdown",
   "metadata": {
    "ipub": {
     "title": "Hello"
    }
   },
   "source": [
    "# Topology to Instructions"
   ]
  },
  {
   "cell_type": "code",
   "execution_count": 1,
   "metadata": {},
   "outputs": [],
   "source": [
    "import os\n",
    "from flask import Flask, jsonify, send_file, request\n",
    "import json\n",
    "import numpy as np"
   ]
  },
  {
   "cell_type": "code",
   "execution_count": 2,
   "metadata": {},
   "outputs": [],
   "source": [
    "def findKey(targetK, dCt):\n",
    "    for ID_key in dCt.keys():\n",
    "        \n",
    "        if dCt[ID_key] == targetK:\n",
    "            return ID_key\n",
    "    return None"
   ]
  },
  {
   "cell_type": "code",
   "execution_count": 3,
   "metadata": {},
   "outputs": [],
   "source": [
    "def stringtoinstr(dct, B_names, B_ID):\n",
    "    ret = []\n",
    "    \n",
    "    for key in dct.keys():\n",
    "        \n",
    "        \n",
    "        \n",
    "        fbx = findKey( findKey(dct[key]['peer']['serialNumber'], B_names['names']['servers']), B_ID)\n",
    "        \n",
    "        rt = [int(key), int(fbx), int(dct[key]['peer']['port'] ) ]\n",
    "        \n",
    "        ret.append(rt)\n",
    "\n",
    "    return ret"
   ]
  },
  {
   "cell_type": "code",
   "execution_count": 4,
   "metadata": {},
   "outputs": [],
   "source": [
    "# 1.) program fetches a topo from data base\n",
    "\n",
    "\n",
    "# Place holder\n",
    "f = open('sample_topo.json',)\n",
    "desired_topo = json.load(f)\n",
    "\n",
    "\n",
    "# 2.) program fetches box info from data base\n",
    "\n",
    "# Place holder\n",
    "f2 = open('Id-names.json',)\n",
    "box_names = json.load(f2)\n",
    "\n",
    "\n",
    "# 3.) box ids\n",
    "f3 = open('boxids.json',)\n",
    "box_ids = json.load(f3)\n"
   ]
  },
  {
   "cell_type": "code",
   "execution_count": null,
   "metadata": {},
   "outputs": [],
   "source": []
  },
  {
   "cell_type": "code",
   "execution_count": 5,
   "metadata": {},
   "outputs": [],
   "source": [
    "def solveTOPO(inTopo, B_names, B_ID):\n",
    "    \n",
    "    \n",
    "    \n",
    "    \n",
    "    #identify managment switch\n",
    "    mgmtID = B_names['names']['switches']['mgmt']\n",
    "\n",
    "    instructions = []\n",
    "    switch_order = []\n",
    "\n",
    "\n",
    "\n",
    "    instructions.append(stringtoinstr(inTopo['switches'][mgmtID], B_names, B_ID) )\n",
    "\n",
    "\n",
    "    switch_order.append(findKey( findKey(mgmtID, B_names['names']['switches']), B_ID))\n",
    "\n",
    "    for key in inTopo['switches'].keys():\n",
    "        if key != mgmtID:\n",
    "\n",
    "\n",
    "            instructions.append(stringtoinstr(inTopo['switches'][key], B_names, B_ID) )\n",
    "\n",
    "\n",
    "\n",
    "\n",
    "            switch_order.append(findKey( findKey(key, B_names['names']['switches']), B_ID))\n",
    "\n",
    "\n",
    "            # for more complex topologies will check for path to mgmt switch from current switch\n",
    "\n",
    "\n",
    "\n",
    "    retinstructions = {\"order\": switch_order, \"instructions\" : instructions}\n",
    "    \n",
    "    return retinstructions"
   ]
  },
  {
   "cell_type": "code",
   "execution_count": null,
   "metadata": {},
   "outputs": [],
   "source": []
  },
  {
   "cell_type": "code",
   "execution_count": null,
   "metadata": {},
   "outputs": [],
   "source": []
  },
  {
   "cell_type": "code",
   "execution_count": 6,
   "metadata": {},
   "outputs": [
    {
     "data": {
      "text/plain": [
       "{'instructions': [[[1, 1, 0], [2, 2, 0], [3, 3, 0], [4, 4, 0], [5, 5, 0]],\n",
       "  [[1, 1, 1], [2, 2, 1], [3, 3, 1], [4, 4, 1], [5, 5, 1]],\n",
       "  [[1, 1, 2], [2, 2, 2], [3, 3, 2], [4, 4, 2], [5, 5, 2]]],\n",
       " 'order': ['0', '6', '7']}"
      ]
     },
     "execution_count": 6,
     "metadata": {},
     "output_type": "execute_result"
    }
   ],
   "source": [
    "solveTOPO(desired_topo, box_names, box_ids)"
   ]
  },
  {
   "cell_type": "code",
   "execution_count": 37,
   "metadata": {},
   "outputs": [],
   "source": [
    "# upload each instruction to database\n",
    "# corresponding QR code links to each instuction"
   ]
  },
  {
   "cell_type": "code",
   "execution_count": null,
   "metadata": {},
   "outputs": [],
   "source": []
  },
  {
   "cell_type": "code",
   "execution_count": null,
   "metadata": {},
   "outputs": [],
   "source": []
  },
  {
   "cell_type": "code",
   "execution_count": 11,
   "metadata": {},
   "outputs": [
    {
     "data": {
      "text/plain": [
       "{'rack': 'rack19',\n",
       " 'servers': {'11345678': {'0': {'peer': {'port': '5',\n",
       "     'serialNumber': 'abcdef'}},\n",
       "   '1': {'peer': {'port': '5', 'serialNumber': 'abcdeg'}},\n",
       "   '2': {'peer': {'port': '5', 'serialNumber': 'abcdeh'}}},\n",
       "  '12145678': {'0': {'peer': {'port': '2', 'serialNumber': 'abcdef'}},\n",
       "   '1': {'peer': {'port': '2', 'serialNumber': 'abcdeg'}},\n",
       "   '2': {'peer': {'port': '2', 'serialNumber': 'abcdeh'}}},\n",
       "  '12315678': {'0': {'peer': {'port': '3', 'serialNumber': 'abcdef'}},\n",
       "   '1': {'peer': {'port': '3', 'serialNumber': 'abcdeg'}},\n",
       "   '2': {'peer': {'port': '3', 'serialNumber': 'abcdeh'}}},\n",
       "  '12341678': {'0': {'peer': {'port': '4', 'serialNumber': 'abcdef'}},\n",
       "   '1': {'peer': {'port': '4', 'serialNumber': 'abcdeg'}},\n",
       "   '2': {'peer': {'port': '4', 'serialNumber': 'abcdeh'}}},\n",
       "  '12345678': {'0': {'peer': {'port': '1', 'serialNumber': 'abcdef'}},\n",
       "   '1': {'peer': {'port': '1', 'serialNumber': 'abcdeg'}},\n",
       "   '2': {'peer': {'port': '1', 'serialNumber': 'abcdeh'}}}},\n",
       " 'switches': {'abcdef': {'1': {'peer': {'port': '0',\n",
       "     'serialNumber': '12345678'}},\n",
       "   '2': {'peer': {'port': '0', 'serialNumber': '12145678'}},\n",
       "   '3': {'peer': {'port': '0', 'serialNumber': '12315678'}},\n",
       "   '4': {'peer': {'port': '0', 'serialNumber': '12341678'}},\n",
       "   '5': {'peer': {'port': '0', 'serialNumber': '11345678'}}},\n",
       "  'abcdeg': {'1': {'peer': {'port': '1', 'serialNumber': '12345678'}},\n",
       "   '2': {'peer': {'port': '1', 'serialNumber': '12145678'}},\n",
       "   '3': {'peer': {'port': '1', 'serialNumber': '12315678'}},\n",
       "   '4': {'peer': {'port': '1', 'serialNumber': '12341678'}},\n",
       "   '5': {'peer': {'port': '1', 'serialNumber': '11345678'}}},\n",
       "  'abcdeh': {'1': {'peer': {'port': '2', 'serialNumber': '12345678'}},\n",
       "   '2': {'peer': {'port': '2', 'serialNumber': '12145678'}},\n",
       "   '3': {'peer': {'port': '2', 'serialNumber': '12315678'}},\n",
       "   '4': {'peer': {'port': '2', 'serialNumber': '12341678'}},\n",
       "   '5': {'peer': {'port': '2', 'serialNumber': '11345678'}}}}}"
      ]
     },
     "execution_count": 11,
     "metadata": {},
     "output_type": "execute_result"
    }
   ],
   "source": [
    "desired_topo"
   ]
  },
  {
   "cell_type": "code",
   "execution_count": null,
   "metadata": {},
   "outputs": [],
   "source": []
  },
  {
   "cell_type": "code",
   "execution_count": null,
   "metadata": {},
   "outputs": [],
   "source": []
  },
  {
   "cell_type": "code",
   "execution_count": null,
   "metadata": {},
   "outputs": [],
   "source": []
  },
  {
   "cell_type": "code",
   "execution_count": null,
   "metadata": {},
   "outputs": [],
   "source": []
  },
  {
   "cell_type": "code",
   "execution_count": 27,
   "metadata": {},
   "outputs": [],
   "source": []
  },
  {
   "cell_type": "code",
   "execution_count": null,
   "metadata": {},
   "outputs": [],
   "source": []
  },
  {
   "cell_type": "code",
   "execution_count": null,
   "metadata": {},
   "outputs": [],
   "source": []
  },
  {
   "cell_type": "code",
   "execution_count": null,
   "metadata": {},
   "outputs": [],
   "source": []
  }
 ],
 "metadata": {
  "kernelspec": {
   "display_name": "Python 3",
   "language": "python",
   "name": "python3"
  },
  "language_info": {
   "codemirror_mode": {
    "name": "ipython",
    "version": 3
   },
   "file_extension": ".py",
   "mimetype": "text/x-python",
   "name": "python",
   "nbconvert_exporter": "python",
   "pygments_lexer": "ipython3",
   "version": "3.7.4"
  }
 },
 "nbformat": 4,
 "nbformat_minor": 4
}
