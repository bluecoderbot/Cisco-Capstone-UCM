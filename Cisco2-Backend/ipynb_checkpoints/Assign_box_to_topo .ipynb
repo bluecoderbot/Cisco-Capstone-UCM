{
 "cells": [
  {
   "cell_type": "markdown",
   "metadata": {},
   "source": [
    "# Assign box to topo "
   ]
  },
  {
   "cell_type": "code",
   "execution_count": 2,
   "metadata": {},
   "outputs": [],
   "source": [
    "import os\n",
    "from flask import Flask, jsonify, send_file, request\n",
    "import json\n",
    "import numpy as np"
   ]
  },
  {
   "cell_type": "code",
   "execution_count": null,
   "metadata": {},
   "outputs": [],
   "source": []
  },
  {
   "cell_type": "code",
   "execution_count": null,
   "metadata": {},
   "outputs": [],
   "source": []
  },
  {
   "cell_type": "code",
   "execution_count": 2,
   "metadata": {},
   "outputs": [],
   "source": [
    "# this program calls Topo to instructions "
   ]
  },
  {
   "cell_type": "code",
   "execution_count": 8,
   "metadata": {},
   "outputs": [],
   "source": [
    "\n",
    "f = open('Id-names.json',)\n",
    "catalog = json.load(f)\n",
    "\n",
    "\n",
    "f2 = open('sample_topo-Network-Designer.json',)\n",
    "Designed_topo = json.load(f2)\n",
    "\n",
    "\n",
    "# 3.) box ids\n",
    "f3 = open('boxids.json',)\n",
    "box_ids = json.load(f3)"
   ]
  },
  {
   "cell_type": "code",
   "execution_count": 4,
   "metadata": {},
   "outputs": [
    {
     "data": {
      "text/plain": [
       "{'names': {'servers': {'server1': '12345678',\n",
       "   'server2': '11345678',\n",
       "   'server3': '12145678',\n",
       "   'server4': '12315678',\n",
       "   'server5': '12341678'},\n",
       "  'switches': {'mgmt': 'abcdef', 'tor1': 'abcdeg', 'tor2': 'abcdeh'}}}"
      ]
     },
     "execution_count": 4,
     "metadata": {},
     "output_type": "execute_result"
    }
   ],
   "source": [
    "catalog"
   ]
  },
  {
   "cell_type": "code",
   "execution_count": 11,
   "metadata": {},
   "outputs": [],
   "source": [
    "catalog2 = {}\n",
    "for key, val in (catalog['names']['servers']).items():\n",
    "    catalog2[key] = val\n",
    "    \n",
    "for key, val in (catalog['names']['switches']).items():\n",
    "    catalog2[key] = val"
   ]
  },
  {
   "cell_type": "code",
   "execution_count": 12,
   "metadata": {},
   "outputs": [
    {
     "data": {
      "text/plain": [
       "{'mgmt': 'abcdef',\n",
       " 'server1': '12345678',\n",
       " 'server2': '11345678',\n",
       " 'server3': '12145678',\n",
       " 'server4': '12315678',\n",
       " 'server5': '12341678',\n",
       " 'tor1': 'abcdeg',\n",
       " 'tor2': 'abcdeh'}"
      ]
     },
     "execution_count": 12,
     "metadata": {},
     "output_type": "execute_result"
    }
   ],
   "source": [
    "catalog2"
   ]
  },
  {
   "cell_type": "code",
   "execution_count": 19,
   "metadata": {},
   "outputs": [
    {
     "data": {
      "text/plain": [
       "'rack19'"
      ]
     },
     "execution_count": 19,
     "metadata": {},
     "output_type": "execute_result"
    }
   ],
   "source": [
    "Designed_topo['rack']"
   ]
  },
  {
   "cell_type": "code",
   "execution_count": 7,
   "metadata": {},
   "outputs": [
    {
     "data": {
      "text/plain": [
       "{'0': 'mgmt',\n",
       " '1': 'server1',\n",
       " '2': 'server3',\n",
       " '3': 'server4',\n",
       " '4': 'server5',\n",
       " '5': 'server2',\n",
       " '6': 'tor1',\n",
       " '7': 'tor2'}"
      ]
     },
     "execution_count": 7,
     "metadata": {},
     "output_type": "execute_result"
    }
   ],
   "source": [
    "box_ids"
   ]
  },
  {
   "cell_type": "code",
   "execution_count": 32,
   "metadata": {},
   "outputs": [
    {
     "name": "stdout",
     "output_type": "stream",
     "text": [
      "0 {'peer': {'port': '5', 'boxNumber': '0'}} \n",
      "\n",
      "1 {'peer': {'port': '5', 'boxNumber': '6'}} \n",
      "\n",
      "2 {'peer': {'port': '5', 'boxNumber': '7'}} \n",
      "\n",
      "0 {'peer': {'port': '2', 'boxNumber': '0'}} \n",
      "\n",
      "1 {'peer': {'port': '2', 'boxNumber': '6'}} \n",
      "\n",
      "2 {'peer': {'port': '2', 'boxNumber': '7'}} \n",
      "\n",
      "0 {'peer': {'port': '3', 'boxNumber': '0'}} \n",
      "\n",
      "1 {'peer': {'port': '3', 'boxNumber': '6'}} \n",
      "\n",
      "2 {'peer': {'port': '3', 'boxNumber': '7'}} \n",
      "\n",
      "0 {'peer': {'port': '4', 'boxNumber': '0'}} \n",
      "\n",
      "1 {'peer': {'port': '4', 'boxNumber': '6'}} \n",
      "\n",
      "2 {'peer': {'port': '4', 'boxNumber': '7'}} \n",
      "\n",
      "0 {'peer': {'port': '1', 'boxNumber': '0'}} \n",
      "\n",
      "1 {'peer': {'port': '1', 'boxNumber': '6'}} \n",
      "\n",
      "2 {'peer': {'port': '1', 'boxNumber': '7'}} \n",
      "\n",
      "1 {'peer': {'port': '0', 'boxNumber': '1'}} \n",
      "\n",
      "2 {'peer': {'port': '0', 'boxNumber': '2'}} \n",
      "\n",
      "3 {'peer': {'port': '0', 'boxNumber': '3'}} \n",
      "\n",
      "4 {'peer': {'port': '0', 'boxNumber': '4'}} \n",
      "\n",
      "5 {'peer': {'port': '0', 'boxNumber': '5'}} \n",
      "\n",
      "1 {'peer': {'port': '1', 'boxNumber': '1'}} \n",
      "\n",
      "2 {'peer': {'port': '1', 'boxNumber': '2'}} \n",
      "\n",
      "3 {'peer': {'port': '1', 'boxNumber': '3'}} \n",
      "\n",
      "4 {'peer': {'port': '1', 'boxNumber': '4'}} \n",
      "\n",
      "5 {'peer': {'port': '1', 'boxNumber': '5'}} \n",
      "\n",
      "1 {'peer': {'port': '2', 'boxNumber': '1'}} \n",
      "\n",
      "2 {'peer': {'port': '2', 'boxNumber': '2'}} \n",
      "\n",
      "3 {'peer': {'port': '2', 'boxNumber': '3'}} \n",
      "\n",
      "4 {'peer': {'port': '2', 'boxNumber': '4'}} \n",
      "\n",
      "5 {'peer': {'port': '2', 'boxNumber': '5'}} \n",
      "\n"
     ]
    }
   ],
   "source": [
    "final_topo = {}\n",
    "final_topo['rack'] = Designed_topo['rack']\n",
    "final_topo['servers'] = {}\n",
    "final_topo['switches'] = {}\n",
    "boxkeys = ['servers', 'switches']\n",
    "\n",
    "\n",
    "\n",
    "for bk in boxkeys:\n",
    "\n",
    "    for key, val in (Designed_topo[bk]).items():\n",
    "\n",
    "        sevTopo = {}\n",
    "\n",
    "        for key2, val2 in (Designed_topo[bk][key]).items():\n",
    "\n",
    "            print(key2, val2, '\\n')\n",
    "\n",
    "\n",
    "            serialNumber3 = catalog2[box_ids[ val2['peer']['port'] ] ]\n",
    "\n",
    "\n",
    "            val3 = {'peer': {'port': val2['peer']['port'], 'serialNumber': serialNumber3}}\n",
    "\n",
    "            sevTopo[key2] = val3\n",
    "\n",
    "\n",
    "        final_topo[bk][catalog2[box_ids[key]] ] = sevTopo\n",
    "    \n",
    "\n"
   ]
  },
  {
   "cell_type": "code",
   "execution_count": null,
   "metadata": {},
   "outputs": [],
   "source": []
  },
  {
   "cell_type": "code",
   "execution_count": null,
   "metadata": {},
   "outputs": [],
   "source": []
  },
  {
   "cell_type": "code",
   "execution_count": null,
   "metadata": {},
   "outputs": [],
   "source": []
  },
  {
   "cell_type": "code",
   "execution_count": null,
   "metadata": {},
   "outputs": [],
   "source": []
  },
  {
   "cell_type": "code",
   "execution_count": null,
   "metadata": {},
   "outputs": [],
   "source": []
  }
 ],
 "metadata": {
  "kernelspec": {
   "display_name": "Python 3",
   "language": "python",
   "name": "python3"
  },
  "language_info": {
   "codemirror_mode": {
    "name": "ipython",
    "version": 3
   },
   "file_extension": ".py",
   "mimetype": "text/x-python",
   "name": "python",
   "nbconvert_exporter": "python",
   "pygments_lexer": "ipython3",
   "version": "3.7.4"
  }
 },
 "nbformat": 4,
 "nbformat_minor": 4
}
